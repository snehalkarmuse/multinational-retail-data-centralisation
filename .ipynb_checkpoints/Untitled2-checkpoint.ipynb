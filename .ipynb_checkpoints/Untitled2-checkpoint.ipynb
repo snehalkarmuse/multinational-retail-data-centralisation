{
 "cells": [
  {
   "cell_type": "code",
   "execution_count": 5,
   "id": "db306359",
   "metadata": {},
   "outputs": [
    {
     "ename": "NameError",
     "evalue": "name 'request' is not defined",
     "output_type": "error",
     "traceback": [
      "\u001b[0;31m---------------------------------------------------------------------------\u001b[0m",
      "\u001b[0;31mNameError\u001b[0m                                 Traceback (most recent call last)",
      "Cell \u001b[0;32mIn[5], line 5\u001b[0m\n\u001b[1;32m      3\u001b[0m my_url \u001b[38;5;241m=\u001b[39m \u001b[38;5;124m\"\u001b[39m\u001b[38;5;124mhttps://aqj7u5id95.execute-api.eu-west-1.amazonaws.com/prod/number_stores\u001b[39m\u001b[38;5;124m\"\u001b[39m\n\u001b[1;32m      4\u001b[0m store_api_config \u001b[38;5;241m=\u001b[39m {\u001b[38;5;124m\"\u001b[39m\u001b[38;5;124mx-api-key\u001b[39m\u001b[38;5;124m\"\u001b[39m:\u001b[38;5;124m\"\u001b[39m\u001b[38;5;124myFBQbwXe9J3sd6zWVAMrK6lcxxr0q1lr2PT6DDMX\u001b[39m\u001b[38;5;124m\"\u001b[39m}\n\u001b[0;32m----> 5\u001b[0m r \u001b[38;5;241m=\u001b[39m \u001b[43mrequest\u001b[49m\u001b[38;5;241m.\u001b[39mget(my_url,headers \u001b[38;5;241m=\u001b[39m store_api_config)\n\u001b[1;32m      6\u001b[0m r\u001b[38;5;241m.\u001b[39mjson()\n\u001b[1;32m      7\u001b[0m df \u001b[38;5;241m=\u001b[39m request\u001b[38;5;241m.\u001b[39mget(\u001b[38;5;124m\"\u001b[39m\u001b[38;5;124mhttps://aqj7u5id95.execute-api.eu-west-1.amazonaws.com/prod/store_details/51\u001b[39m\u001b[38;5;124m\"\u001b[39m,headers \u001b[38;5;241m=\u001b[39m store_api_config)\n",
      "\u001b[0;31mNameError\u001b[0m: name 'request' is not defined"
     ]
    }
   ],
   "source": [
    "import requests\n",
    "\n",
    "my_url = \"https://aqj7u5id95.execute-api.eu-west-1.amazonaws.com/prod/number_stores\"\n",
    "store_api_config = {\"x-api-key\":\"yFBQbwXe9J3sd6zWVAMrK6lcxxr0q1lr2PT6DDMX\"}\n",
    "r = request.get(my_url,headers = store_api_config)\n",
    "r.json()\n",
    "\n",
    "df = request.get(\"https://aqj7u5id95.execute-api.eu-west-1.amazonaws.com/prod/store_details/51\",headers = store_api_config)\n",
    "print(df)"
   ]
  },
  {
   "cell_type": "code",
   "execution_count": null,
   "id": "23975ac2",
   "metadata": {},
   "outputs": [],
   "source": []
  }
 ],
 "metadata": {
  "kernelspec": {
   "display_name": "Python 3 (ipykernel)",
   "language": "python",
   "name": "python3"
  },
  "language_info": {
   "codemirror_mode": {
    "name": "ipython",
    "version": 3
   },
   "file_extension": ".py",
   "mimetype": "text/x-python",
   "name": "python",
   "nbconvert_exporter": "python",
   "pygments_lexer": "ipython3",
   "version": "3.10.9"
  }
 },
 "nbformat": 4,
 "nbformat_minor": 5
}
