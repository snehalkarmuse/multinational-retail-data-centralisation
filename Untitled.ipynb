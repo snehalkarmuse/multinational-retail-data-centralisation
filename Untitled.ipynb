{
 "cells": [
  {
   "cell_type": "code",
   "execution_count": 10,
   "id": "7ef7f163",
   "metadata": {
    "scrolled": true
   },
   "outputs": [
    {
     "name": "stdout",
     "output_type": "stream",
     "text": [
      "        timestamp\n",
      "1  36328839329329\n",
      "2    hsdhhdjhdj77\n",
      "4                \n"
     ]
    }
   ],
   "source": [
    "import pandas as pd\n",
    "import numpy as np\n",
    "import re\n",
    "import validate as vld\n",
    "def check_valid_date(dt):\n",
    "        dt_rgx = re.compile(r'\\d\\d\\d\\d-\\d\\d-\\d\\d')\n",
    "        date_result = dt_rgx.search(dt)\n",
    "        return date_result\n",
    "vldtr = vld.Validate()\n",
    "\n",
    "def validate_date(df,column_name):\n",
    "        drop_invld_rows(df, df[column_name].str.match('NULL'))\n",
    "        drop_invld_rows(df, df[column_name].str.match(r'\\d*'))\n",
    "        df[column_name] = df[column_name].astype('datetime64[ns]')\n",
    "        df[column_name] = pd.to_datetime(df[column_name]).dt.normalize()\n",
    "        df[column_name] = pd.to_datetime(df[column_name]).dt.date\n",
    "        \n",
    "        \n",
    "def drop_invld_rows(df, invalid_rows):\n",
    "         df.drop(df.loc[invalid_rows].index, axis = 0, inplace = True)\n",
    "        \n",
    "df = pd.DataFrame({'timestamp':['????3505784569448924','36328839329329','hsdhhdjhdj77','null','']})\n",
    "df['timestamp']= df['timestamp'].astype(str)\n",
    "df.drop(df.loc[df['timestamp'].str.contains(\"null\")== True].index,inplace = True, axis = 0)\n",
    "df.drop(df.loc[df['timestamp'].str.contains(r'\\W')== True].index,inplace = True, axis = 0)\n",
    "df.drop(df.loc[df['timestamp'].str.contains(r'[a-z]\\[A-Z]')== True].index,inplace = True, axis = 0)\n",
    "#df.drop(df.loc[df['timestamp'].str.contains('')== True].index,inplace = True, axis = 0)\n",
    "# df['timestamp'] = df['timestamp'].apply(lambda x:check_valid_date(x) )\n",
    "\n",
    "\n",
    "print(df)\n"
   ]
  },
  {
   "cell_type": "code",
   "execution_count": 9,
   "id": "2eb71013",
   "metadata": {
    "scrolled": false
   },
   "outputs": [
    {
     "name": "stdout",
     "output_type": "stream",
     "text": [
      "Empty DataFrame\n",
      "Columns: [timestamp]\n",
      "Index: []\n"
     ]
    }
   ],
   "source": [
    "validate_date(df, 'timestamp')\n",
    "print(df)"
   ]
  },
  {
   "cell_type": "code",
   "execution_count": 2,
   "id": "c50615be",
   "metadata": {},
   "outputs": [
    {
     "name": "stdout",
     "output_type": "stream",
     "text": [
      "<class 'pandas.core.frame.DataFrame'>\n",
      "RangeIndex: 5 entries, 0 to 4\n",
      "Data columns (total 1 columns):\n",
      " #   Column     Non-Null Count  Dtype \n",
      "---  ------     --------------  ----- \n",
      " 0   timestamp  5 non-null      object\n",
      "dtypes: object(1)\n",
      "memory usage: 168.0+ bytes\n"
     ]
    }
   ],
   "source": [
    "df['timestamp']= df['timestamp'].astype(str)\n",
    "df.info()"
   ]
  },
  {
   "cell_type": "code",
   "execution_count": null,
   "id": "075e20fc",
   "metadata": {},
   "outputs": [],
   "source": []
  }
 ],
 "metadata": {
  "kernelspec": {
   "display_name": "Python 3 (ipykernel)",
   "language": "python",
   "name": "python3"
  },
  "language_info": {
   "codemirror_mode": {
    "name": "ipython",
    "version": 3
   },
   "file_extension": ".py",
   "mimetype": "text/x-python",
   "name": "python",
   "nbconvert_exporter": "python",
   "pygments_lexer": "ipython3",
   "version": "3.10.9"
  }
 },
 "nbformat": 4,
 "nbformat_minor": 5
}
