{
 "cells": [
  {
   "cell_type": "code",
   "execution_count": 10,
   "id": "0ea4c029",
   "metadata": {},
   "outputs": [
    {
     "name": "stdout",
     "output_type": "stream",
     "text": [
      "                     x\n",
      "0           ghddjjdjd7\n",
      "1          23 dec 2004\n",
      "2  2012-03-03 00:02:03\n"
     ]
    }
   ],
   "source": [
    "import pandas as pd\n",
    "\n",
    "df = pd.DataFrame({'x' :['ghddjjdjd7','23 dec 2004','2012-03-03 00:02:03']})\n",
    "print(df)\n"
   ]
  },
  {
   "cell_type": "code",
   "execution_count": 17,
   "id": "c4a3adba",
   "metadata": {
    "scrolled": true
   },
   "outputs": [
    {
     "name": "stdout",
     "output_type": "stream",
     "text": [
      "            x\n",
      "1  2004-12-23\n",
      "2  2012-03-03\n"
     ]
    }
   ],
   "source": [
    "df['x'] = pd.to_datetime(df['x'], errors ='coerce').dt.date\n",
    "df.drop(df.loc[df['x'].isnull()].index,axis = 0,inplace = True)\n",
    "print(df)"
   ]
  },
  {
   "cell_type": "code",
   "execution_count": null,
   "id": "66dcd376",
   "metadata": {},
   "outputs": [],
   "source": []
  }
 ],
 "metadata": {
  "kernelspec": {
   "display_name": "Python 3 (ipykernel)",
   "language": "python",
   "name": "python3"
  },
  "language_info": {
   "codemirror_mode": {
    "name": "ipython",
    "version": 3
   },
   "file_extension": ".py",
   "mimetype": "text/x-python",
   "name": "python",
   "nbconvert_exporter": "python",
   "pygments_lexer": "ipython3",
   "version": "3.10.9"
  }
 },
 "nbformat": 4,
 "nbformat_minor": 5
}
